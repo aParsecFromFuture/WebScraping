{
 "cells": [
  {
   "cell_type": "markdown",
   "metadata": {},
   "source": [
    "### Import the necessary modules"
   ]
  },
  {
   "cell_type": "code",
   "execution_count": 1,
   "metadata": {},
   "outputs": [],
   "source": [
    "import pandas as pd\n",
    "import numpy as np"
   ]
  },
  {
   "cell_type": "markdown",
   "metadata": {},
   "source": [
    "### Filter the dataframe columns"
   ]
  },
  {
   "cell_type": "code",
   "execution_count": 2,
   "metadata": {},
   "outputs": [],
   "source": [
    "df_computer = pd.read_csv('computer.csv')\n",
    "\n",
    "main_cols = ['ASIN', 'Bağlantı Türü', 'Bellek Teknolojisi', 'Bilgisayar Bellek Türü',\n",
    "       'Desteklenen Maksimum Bellek', 'Ekran Boyutu', 'Ekran Kartı Arayüzü',\n",
    "       'Ekran Kartı Açıklaması', 'Form Faktör', 'Grafik RAM Türü',\n",
    "       'Grafik İşlemci Üreticisi', 'Lityum Batarya Enerji İçeriği',\n",
    "       'Lityum Batarya Paketi', 'Lityum İyon Hücre Sayısı', 'Marka',\n",
    "       'Optik Sürücü Türü', 'Ortalama Pil Ömrü (saat)', 'Paket Boyutları',\n",
    "       'Piller Dahil mi?', 'Piller:', 'Price', 'RAM Boyutu',\n",
    "       'Sabit Disk Açıklaması', 'Score', 'Seri',\n",
    "       'USB 3.0 Bağlantı Noktası Sayısı', 'Çözünürlük', 'Üretici',\n",
    "       'Ürün Ağırlığı', 'İşlemci Hızı', 'İşlemci Markası', 'İşlemci Sayısı',\n",
    "       'İşlemci Türü', 'İşletim Sistemi', 'Grafik Yardımcı İşlemcisi', 'Renk',\n",
    "       'Sabit Sürücü Arabirimi', 'Sabit Sürücü Boyutu',\n",
    "       'USB 2.0 Bağlantı Noktası Sayısı', 'Ürün Boyutları',\n",
    "       'Donanım Platformu', 'Ekran Kartı Bellek Boyutu', 'Ürün Model Numarası',\n",
    "       'HDMI Bağlantı Noktası Sayısı', 'Kablosuz Türü',\n",
    "       'Bellek Saat Hızı', 'Üretici Artık Üretmiyor', 'Donanım Arayüzü',\n",
    "       'Ekran Teknolojisi', 'Ortalama Pil Ömrü', 'RAM Bellek Teknolojisi', 'Model', 'Lityum Batarya Ağırlığı']\n",
    "\n",
    "df_computer = df_computer[main_cols]"
   ]
  },
  {
   "cell_type": "markdown",
   "metadata": {},
   "source": [
    "### Replace dictionaries"
   ]
  },
  {
   "cell_type": "code",
   "execution_count": 3,
   "metadata": {},
   "outputs": [],
   "source": [
    "ram_technology = {'Ddr': 'DDR', 'Ddr_3': 'DDR3', 'Ddr_4': 'DDR4', 'Lpddr_3': 'LPDDR3', 'Lpddr_4': 'LPDDR4'}\n",
    "ram_type = {'Bilinmeyen': np.nan}\n",
    "ram_max_support = {' GB': ''} # regex\n",
    "screen_size = {' İnç': ''} # regex\n",
    "screen_card_interface = {'Bilinmeyen': np.nan}\n",
    "graphic_ram_type = {'Bilinmeyen': np.nan}\n",
    "graphic_processor_producer = {'Amd': 'AMD', 'Nvidia': 'NVIDIA', 'NVidia': 'NVIDIA'}\n",
    "brand = {'ASUS Computer': 'Asus'}\n",
    "optical_drive = {'Optik Sürücü Yok': 'Yok', 'Hayır': 'Yok', 'No Optical Drive': 'Yok', 'Kein optisches Laufwerk': 'Yok', 'Keine': 'Yok'}\n",
    "battery_life = {' Saat': ''} # regex\n",
    "harddisk_desc = {'Katı Hal Sürücüsü \\(SSD\\)': 'SSD', 'Katı hal sürücüsü \\(ssd\\)': 'SSD', 'Mekanik Sabit Sürücü \\(HDD\\)': 'HDD'} # regex\n",
    "score = {' / 5 yıldız': '', ',': '.'} # regex\n",
    "resolution = {' ': '', '\\*': 'x', 'Pixels': '', 'piksel': '', 'Unbekannt': np.nan, '1080p': '1920x1080', 'Full': '', 'HD': ''} # regex\n",
    "producer = {'hp': 'HP', 'Hp': 'HP', 'Üretici : ': '', 'lenov': 'Lenovo', 'LENOVO': 'Lenovo', 'HUAWEI': 'Huawei', 'excaibur': 'Excalibur', 'Excallibur': 'Excalibur', 'MONSTER': 'Monster'} # regex\n",
    "product_weight = {' kg': '', ' Kilogram': '', ' g': ''} # regex\n",
    "cpu_speed = {' GHz': '', ' MHz': '', ' Hz': '', ' Pages per month': '', '270': '2.7'} # regex\n",
    "cpu_brand = {'Intel ®': 'Intel'}\n",
    "cpu_type = {'Yok': np.nan}\n",
    "operating_system = {'FreeDos': 'FreeDOS', 'Işletim_sistemi_yok': 'FreeDOS', 'Işletim sistemi yok': 'FreeDOS', 'Freedos': 'FreeDOS', 'YOK': 'FreeDOS', 'Yok': 'FreeDOS'}\n",
    "color = {'Grey': 'Gri', 'GRİ': 'Gri', 'Gray': 'Gri'}\n",
    "harddisk_interface = {'Bilinmeyen': np.nan}\n",
    "harddisk_space = {' GB': '', ' TB': '000'} # regex\n",
    "hardware_platform = {'No Operating System': 'Dos'}\n",
    "memory_clock_speed = {' MHz': '', 'GHz': ''} # regex\n",
    "average_battery_life = {' Saat': ''} # regex\n",
    "lithium_battery_weight = {' gram': '', ' miligram': ''} # regex"
   ]
  },
  {
   "cell_type": "markdown",
   "metadata": {},
   "source": [
    "### Apply functions"
   ]
  },
  {
   "cell_type": "code",
   "execution_count": 4,
   "metadata": {},
   "outputs": [],
   "source": [
    "def price(x):\n",
    "    return x[1:-3].replace('.', '')\n",
    "\n",
    "def lithium_battery_energy_content(x):\n",
    "    if x == None or type(x) is float:\n",
    "        return x\n",
    "    elif x[-9:] == ' Vat Saat':\n",
    "        x = float(x[:-9])\n",
    "    elif x[-15:] == ' Miliamper Saat':\n",
    "        x = float(x[:-15]) / 1000\n",
    "    return x\n",
    "\n",
    "def ram_size(x):\n",
    "    if x is None or type(x) is float:\n",
    "        return x\n",
    "    elif x[-2:] == 'GB':\n",
    "        return int(x[:-2])\n",
    "    elif x[-2:] == 'MB':\n",
    "        return int(x[:-2]) // 1024\n",
    "    \n",
    "def graphic_memory_size(x):\n",
    "    if x is None or type(x) is float:\n",
    "        return x\n",
    "    elif x[-2:] == 'GB':\n",
    "        return int(x[:-3])\n",
    "    elif x[-2:] == 'MB':\n",
    "        return int(x[:-3]) // 1024"
   ]
  },
  {
   "cell_type": "markdown",
   "metadata": {},
   "source": [
    "### Standardization"
   ]
  },
  {
   "cell_type": "code",
   "execution_count": 5,
   "metadata": {},
   "outputs": [],
   "source": [
    "df_computer['Bellek Teknolojisi'].replace(ram_technology, inplace=True)\n",
    "df_computer['Bilgisayar Bellek Türü'].replace(ram_type, inplace=True)\n",
    "df_computer['Desteklenen Maksimum Bellek'] = df_computer['Desteklenen Maksimum Bellek'].replace(regex=ram_max_support).astype('float')\n",
    "df_computer['Ekran Boyutu'].replace(regex=screen_size, inplace=True)\n",
    "df_computer['Ekran Kartı Arayüzü'].replace(screen_card_interface, inplace=True)\n",
    "df_computer['Grafik RAM Türü'].replace(graphic_ram_type, inplace=True)\n",
    "df_computer['Grafik İşlemci Üreticisi'].replace(graphic_processor_producer, inplace=True)\n",
    "df_computer['Marka'].replace(brand, inplace=True)\n",
    "df_computer['Optik Sürücü Türü'].replace(optical_drive, inplace=True)\n",
    "df_computer['Ortalama Pil Ömrü (saat)'] = df_computer['Ortalama Pil Ömrü (saat)'].replace(regex=battery_life).astype('float')\n",
    "df_computer['Sabit Disk Açıklaması'].replace(regex=harddisk_desc, inplace=True)\n",
    "df_computer['Score'] = df_computer['Score'].replace(regex=score).astype('float')\n",
    "df_computer['Çözünürlük'].replace(regex=resolution, inplace=True)\n",
    "df_computer['Üretici'].replace(regex=producer, inplace=True)\n",
    "df_computer['Ürün Ağırlığı'] = df_computer['Ürün Ağırlığı'].replace(regex=product_weight).astype('float')\n",
    "df_computer['İşlemci Hızı'] = df_computer['İşlemci Hızı'].replace(regex=cpu_speed).astype('float')\n",
    "df_computer['İşlemci Markası'].replace(cpu_brand, inplace=True)\n",
    "df_computer['İşlemci Türü'].replace(cpu_type, inplace=True)\n",
    "df_computer['İşletim Sistemi'].replace(operating_system, inplace=True)\n",
    "df_computer['Renk'].replace(color, inplace=True)\n",
    "df_computer['Sabit Sürücü Arabirimi'].replace(harddisk_interface, inplace=True)\n",
    "df_computer['Sabit Sürücü Boyutu'] = df_computer['Sabit Sürücü Boyutu'].replace(regex=harddisk_space).astype('float')\n",
    "df_computer['Donanım Platformu'].replace(regex=hardware_platform, inplace=True)\n",
    "df_computer['Bellek Saat Hızı'] = df_computer['Bellek Saat Hızı'].replace(regex=memory_clock_speed).astype('float')\n",
    "df_computer['Ortalama Pil Ömrü'] = df_computer['Ortalama Pil Ömrü'].replace(regex=average_battery_life).astype('float')\n",
    "df_computer['Lityum Batarya Ağırlığı'] = df_computer['Lityum Batarya Ağırlığı'].replace(regex=lithium_battery_weight).astype('float')\n",
    "df_computer['Price'] = df_computer['Price'].apply(price).astype('float')\n",
    "df_computer['Lityum Batarya Enerji İçeriği'] = df_computer['Lityum Batarya Enerji İçeriği'].apply(lithium_battery_energy_content)\n",
    "df_computer['RAM Boyutu'] = df_computer['RAM Boyutu'].apply(ram_size)\n",
    "df_computer['Ekran Kartı Bellek Boyutu'] = df_computer['Ekran Kartı Bellek Boyutu'].apply(graphic_memory_size)"
   ]
  },
  {
   "cell_type": "markdown",
   "metadata": {},
   "source": [
    "### Save the standardized dataframe"
   ]
  },
  {
   "cell_type": "code",
   "execution_count": 6,
   "metadata": {},
   "outputs": [],
   "source": [
    "df_computer.to_csv('computer_filtered.csv', index=False)"
   ]
  },
  {
   "cell_type": "code",
   "execution_count": null,
   "metadata": {},
   "outputs": [],
   "source": []
  }
 ],
 "metadata": {
  "kernelspec": {
   "display_name": "Python 3",
   "language": "python",
   "name": "python3"
  },
  "language_info": {
   "codemirror_mode": {
    "name": "ipython",
    "version": 3
   },
   "file_extension": ".py",
   "mimetype": "text/x-python",
   "name": "python",
   "nbconvert_exporter": "python",
   "pygments_lexer": "ipython3",
   "version": "3.6.12"
  }
 },
 "nbformat": 4,
 "nbformat_minor": 4
}
