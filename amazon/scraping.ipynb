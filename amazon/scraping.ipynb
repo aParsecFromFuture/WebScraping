{
 "cells": [
  {
   "cell_type": "markdown",
   "metadata": {},
   "source": [
    "### Import the necessary modules"
   ]
  },
  {
   "cell_type": "code",
   "execution_count": 1,
   "metadata": {},
   "outputs": [],
   "source": [
    "from selenium import webdriver\n",
    "from selenium.common.exceptions import NoSuchElementException\n",
    "import pandas as pd"
   ]
  },
  {
   "cell_type": "markdown",
   "metadata": {},
   "source": [
    "### Get the first page of computer products"
   ]
  },
  {
   "cell_type": "code",
   "execution_count": 2,
   "metadata": {},
   "outputs": [],
   "source": [
    "amazon_url = 'https://www.amazon.com.tr/'\n",
    "driver = webdriver.Edge(executable_path='drivers/msedgedriver.exe')\n",
    "\n",
    "driver.get(amazon_url)\n",
    "button = driver.find_element_by_css_selector('a[data-csa-c-content-id=nav_cs_pc]')\n",
    "\n",
    "# The title 'Dizüstü Bilgisayarlar' would be different for the languages other than turkish\n",
    "\n",
    "driver.get(button.get_attribute('href'))\n",
    "button = driver.find_element_by_css_selector('a[title=\"Dizüstü Bilgisayarlar\"]')\n",
    "\n",
    "driver.get(button.get_attribute('href'))\n",
    "button = driver.find_element_by_css_selector('.apb-browse-searchresults-footer > div > a')\n",
    "\n",
    "driver.get(button.get_attribute('href'))\n",
    "page_limit = int(driver.find_element_by_css_selector('li[aria-disabled=true]').get_attribute('innerHTML'))"
   ]
  },
  {
   "cell_type": "markdown",
   "metadata": {},
   "source": [
    "### Collect all links to the products from pages"
   ]
  },
  {
   "cell_type": "code",
   "execution_count": 3,
   "metadata": {},
   "outputs": [],
   "source": [
    "links = [e.get_attribute('href') for e in driver.find_elements_by_css_selector('span[data-component-type=s-product-image] > a')]\n",
    "\n",
    "for i in range(1, page_limit):\n",
    "    next_button = driver.find_element_by_css_selector('.a-last > a')\n",
    "    driver.get(next_button.get_attribute('href'))\n",
    "    links += [e.get_attribute('href') for e in driver.find_elements_by_css_selector('span[data-component-type=s-product-image] > a')]"
   ]
  },
  {
   "cell_type": "markdown",
   "metadata": {},
   "source": [
    "### Visit the links and get the product details"
   ]
  },
  {
   "cell_type": "code",
   "execution_count": 4,
   "metadata": {},
   "outputs": [],
   "source": [
    "product_list = []\n",
    "\n",
    "for link in links:\n",
    "    driver.get(link)\n",
    "    \n",
    "    try:\n",
    "        price = driver.find_element_by_id('price_inside_buybox')\n",
    "        product_table = driver.find_element_by_id('productDetails_techSpec_section_1')\n",
    "    except NoSuchElementException:\n",
    "        continue\n",
    "        \n",
    "    try:\n",
    "        score = driver.find_element_by_css_selector('span[data-hook=rating-out-of-text]')\n",
    "    except NoSuchElementException:\n",
    "        score = None\n",
    "    \n",
    "    product_data = {row.find_element_by_tag_name('th').get_attribute('innerHTML').strip(): row.find_element_by_tag_name('td').get_attribute('innerHTML').strip() for row in product_table.find_elements_by_tag_name('tr')}\n",
    "    product_data['Price'] = price.get_attribute('innerHTML').strip()\n",
    "    product_data['Score'] = score.get_attribute('innerHTML') if score else None\n",
    "    product_list.append(product_data)"
   ]
  },
  {
   "cell_type": "markdown",
   "metadata": {},
   "source": [
    "### Create a dataframe from the data"
   ]
  },
  {
   "cell_type": "code",
   "execution_count": 5,
   "metadata": {},
   "outputs": [],
   "source": [
    "df_computer = pd.DataFrame()\n",
    "for product in product_list:\n",
    "    df_computer = df_computer.append(pd.Series(product), ignore_index=True)\n",
    "    \n",
    "df_computer.to_csv('computer.csv', index=False)"
   ]
  },
  {
   "cell_type": "code",
   "execution_count": null,
   "metadata": {},
   "outputs": [],
   "source": []
  }
 ],
 "metadata": {
  "kernelspec": {
   "display_name": "Python 3",
   "language": "python",
   "name": "python3"
  },
  "language_info": {
   "codemirror_mode": {
    "name": "ipython",
    "version": 3
   },
   "file_extension": ".py",
   "mimetype": "text/x-python",
   "name": "python",
   "nbconvert_exporter": "python",
   "pygments_lexer": "ipython3",
   "version": "3.6.12"
  }
 },
 "nbformat": 4,
 "nbformat_minor": 4
}
