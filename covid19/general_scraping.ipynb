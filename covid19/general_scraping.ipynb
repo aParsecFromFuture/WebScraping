{
 "cells": [
  {
   "cell_type": "markdown",
   "metadata": {},
   "source": [
    "### Import the necessary modules"
   ]
  },
  {
   "cell_type": "code",
   "execution_count": 1,
   "metadata": {},
   "outputs": [],
   "source": [
    "from selenium import webdriver\n",
    "import pandas as pd"
   ]
  },
  {
   "cell_type": "markdown",
   "metadata": {},
   "source": [
    "### Get the covid19 table"
   ]
  },
  {
   "cell_type": "code",
   "execution_count": 2,
   "metadata": {},
   "outputs": [],
   "source": [
    "saglik_url = 'https://covid19.saglik.gov.tr/TR-66935/genel-koronavirus-tablosu.html'\n",
    "\n",
    "# The table is created dynamically with javascript so we can't use beautifulsoup for that\n",
    "# Selenium is a web testing tool but it can also be used for web scraping\n",
    "# If you use another browser other than edge, you should download the necessary webdriver\n",
    "\n",
    "driver = webdriver.Edge('msedgedriver.exe')\n",
    "driver.get(saglik_url)\n",
    "\n",
    "table = driver.find_element_by_class_name('table')"
   ]
  },
  {
   "cell_type": "markdown",
   "metadata": {},
   "source": [
    "### Collect the data from table"
   ]
  },
  {
   "cell_type": "code",
   "execution_count": 3,
   "metadata": {},
   "outputs": [],
   "source": [
    "col_elem = table.find_element_by_class_name('sticky-header')\n",
    "cols = [th.get_attribute('innerHTML') for th in col_elem.find_elements_by_tag_name('th')]\n",
    "\n",
    "row_elem = table.find_element_by_id('TumVerileriGetir')\n",
    "rows = [[td.get_attribute('innerHTML') for td in tr.find_elements_by_tag_name('td')] for tr in row_elem.find_elements_by_tag_name('tr')]"
   ]
  },
  {
   "cell_type": "markdown",
   "metadata": {},
   "source": [
    "### Create the dataframe"
   ]
  },
  {
   "cell_type": "code",
   "execution_count": 4,
   "metadata": {},
   "outputs": [
    {
     "data": {
      "text/html": [
       "<div>\n",
       "<style scoped>\n",
       "    .dataframe tbody tr th:only-of-type {\n",
       "        vertical-align: middle;\n",
       "    }\n",
       "\n",
       "    .dataframe tbody tr th {\n",
       "        vertical-align: top;\n",
       "    }\n",
       "\n",
       "    .dataframe thead th {\n",
       "        text-align: right;\n",
       "    }\n",
       "</style>\n",
       "<table border=\"1\" class=\"dataframe\">\n",
       "  <thead>\n",
       "    <tr style=\"text-align: right;\">\n",
       "      <th></th>\n",
       "      <th>Tarih</th>\n",
       "      <th>Toplam Test Sayısı</th>\n",
       "      <th>Toplam Vaka Sayısı</th>\n",
       "      <th>Toplam Vefat Sayısı</th>\n",
       "      <th>Hastalarda Zatürre Oranı (%)</th>\n",
       "      <th>Ağır Hasta Sayısı</th>\n",
       "      <th>Toplam İyileşen Hasta Sayısı</th>\n",
       "      <th>Bugünkü Hasta Sayısı</th>\n",
       "      <th>Bugünkü Test Sayısı</th>\n",
       "      <th>Bugünkü Vefat Sayısı</th>\n",
       "      <th>Bugünkü İyileşen Sayısı</th>\n",
       "    </tr>\n",
       "  </thead>\n",
       "  <tbody>\n",
       "    <tr>\n",
       "      <th>0</th>\n",
       "      <td>18 ŞUBAT 2021</td>\n",
       "      <td>31.981.492</td>\n",
       "      <td>2.616.600</td>\n",
       "      <td>27.821</td>\n",
       "      <td>3,6</td>\n",
       "      <td>1.187</td>\n",
       "      <td>2.504.050</td>\n",
       "      <td>640</td>\n",
       "      <td>115.406</td>\n",
       "      <td>83</td>\n",
       "      <td>7.217</td>\n",
       "    </tr>\n",
       "    <tr>\n",
       "      <th>1</th>\n",
       "      <td>17 ŞUBAT 2021</td>\n",
       "      <td>31.866.086</td>\n",
       "      <td>2.609.359</td>\n",
       "      <td>27.738</td>\n",
       "      <td>3,6</td>\n",
       "      <td>1.193</td>\n",
       "      <td>2.496.833</td>\n",
       "      <td>649</td>\n",
       "      <td>117.121</td>\n",
       "      <td>86</td>\n",
       "      <td>7.209</td>\n",
       "    </tr>\n",
       "    <tr>\n",
       "      <th>2</th>\n",
       "      <td>16 ŞUBAT 2021</td>\n",
       "      <td>31.748.965</td>\n",
       "      <td>2.602.034</td>\n",
       "      <td>27.652</td>\n",
       "      <td>3,6</td>\n",
       "      <td>1.201</td>\n",
       "      <td>2.489.624</td>\n",
       "      <td>658</td>\n",
       "      <td>115.794</td>\n",
       "      <td>90</td>\n",
       "      <td>7.189</td>\n",
       "    </tr>\n",
       "    <tr>\n",
       "      <th>3</th>\n",
       "      <td>15 ŞUBAT 2021</td>\n",
       "      <td>31.633.171</td>\n",
       "      <td>2.594.128</td>\n",
       "      <td>27.562</td>\n",
       "      <td>3,6</td>\n",
       "      <td>1.232</td>\n",
       "      <td>2.482.435</td>\n",
       "      <td>660</td>\n",
       "      <td>116.452</td>\n",
       "      <td>91</td>\n",
       "      <td>7.106</td>\n",
       "    </tr>\n",
       "    <tr>\n",
       "      <th>4</th>\n",
       "      <td>14 ŞUBAT 2021</td>\n",
       "      <td>31.516.719</td>\n",
       "      <td>2.586.183</td>\n",
       "      <td>27.471</td>\n",
       "      <td>3,7</td>\n",
       "      <td>1.230</td>\n",
       "      <td>2.475.329</td>\n",
       "      <td>666</td>\n",
       "      <td>104.108</td>\n",
       "      <td>94</td>\n",
       "      <td>6.910</td>\n",
       "    </tr>\n",
       "  </tbody>\n",
       "</table>\n",
       "</div>"
      ],
      "text/plain": [
       "                Tarih Toplam Test Sayısı Toplam Vaka Sayısı  \\\n",
       "0     18 ŞUBAT 2021          31.981.492          2.616.600    \n",
       "1     17 ŞUBAT 2021          31.866.086          2.609.359    \n",
       "2     16 ŞUBAT 2021          31.748.965          2.602.034    \n",
       "3     15 ŞUBAT 2021          31.633.171          2.594.128    \n",
       "4     14 ŞUBAT 2021          31.516.719          2.586.183    \n",
       "\n",
       "  Toplam Vefat Sayısı Hastalarda Zatürre Oranı (%) Ağır Hasta Sayısı  \\\n",
       "0             27.821                          3,6             1.187    \n",
       "1             27.738                          3,6             1.193    \n",
       "2             27.652                          3,6             1.201    \n",
       "3             27.562                          3,6             1.232    \n",
       "4             27.471                          3,7             1.230    \n",
       "\n",
       "  Toplam İyileşen Hasta Sayısı Bugünkü Hasta Sayısı Bugünkü Test Sayısı  \\\n",
       "0                   2.504.050                  640             115.406    \n",
       "1                   2.496.833                  649             117.121    \n",
       "2                   2.489.624                  658             115.794    \n",
       "3                   2.482.435                  660             116.452    \n",
       "4                   2.475.329                  666             104.108    \n",
       "\n",
       "  Bugünkü Vefat Sayısı Bugünkü İyileşen Sayısı  \n",
       "0                  83                   7.217   \n",
       "1                  86                   7.209   \n",
       "2                  90                   7.189   \n",
       "3                  91                   7.106   \n",
       "4                  94                   6.910   "
      ]
     },
     "execution_count": 4,
     "metadata": {},
     "output_type": "execute_result"
    }
   ],
   "source": [
    "df_table = pd.DataFrame(data=rows, columns=cols)\n",
    "df_table.head()"
   ]
  },
  {
   "cell_type": "code",
   "execution_count": null,
   "metadata": {},
   "outputs": [],
   "source": []
  }
 ],
 "metadata": {
  "kernelspec": {
   "display_name": "Python 3",
   "language": "python",
   "name": "python3"
  },
  "language_info": {
   "codemirror_mode": {
    "name": "ipython",
    "version": 3
   },
   "file_extension": ".py",
   "mimetype": "text/x-python",
   "name": "python",
   "nbconvert_exporter": "python",
   "pygments_lexer": "ipython3",
   "version": "3.6.12"
  }
 },
 "nbformat": 4,
 "nbformat_minor": 4
}
