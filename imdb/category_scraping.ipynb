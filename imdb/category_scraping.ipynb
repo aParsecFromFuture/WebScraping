{
 "cells": [
  {
   "cell_type": "markdown",
   "metadata": {},
   "source": [
    "### Import the necessary modules for web scraping"
   ]
  },
  {
   "cell_type": "code",
   "execution_count": 1,
   "metadata": {},
   "outputs": [],
   "source": [
    "from bs4 import BeautifulSoup\n",
    "import pandas as pd\n",
    "import requests"
   ]
  },
  {
   "cell_type": "markdown",
   "metadata": {},
   "source": [
    "### Get the movie paths from 'the top 250 movie' page"
   ]
  },
  {
   "cell_type": "code",
   "execution_count": 2,
   "metadata": {},
   "outputs": [],
   "source": [
    "base_url = 'https://www.imdb.com/'\n",
    "top_250_url = 'https://www.imdb.com/chart/top'\n",
    "\n",
    "response = requests.get(top_250_url)\n",
    "soup = BeautifulSoup(markup=response.content, features='html.parser')\n",
    "movies = [(e.get_text(), e.get('href')) for e in soup.select('.titleColumn > a')]"
   ]
  },
  {
   "cell_type": "markdown",
   "metadata": {},
   "source": [
    "### Construct a dataframes that holds the categories"
   ]
  },
  {
   "cell_type": "code",
   "execution_count": 3,
   "metadata": {},
   "outputs": [],
   "source": [
    "cols = [\n",
    "    'Action', 'Drama', 'Adventure', 'Comedy', 'Animation', 'Sci-Fi', 'Fantasy', 'Crime',\n",
    "    'Thriller', 'Family', 'Romance', 'Short', 'Mystery', 'Sport', 'Horror',\n",
    "    'War', 'History', 'Reality-TV', 'Western', 'Game-Show', 'Documentary', 'Music',\n",
    "    'Biography', 'Talk-Show', 'Musical', 'News', 'Film-Noir', 'Adult'\n",
    "]\n",
    "\n",
    "df_category = pd.DataFrame(columns=cols)\n",
    "\n",
    "for movie_name, movie_path in movies:\n",
    "    # Get the categories\n",
    "    \n",
    "    response = requests.get(base_url + movie_path)\n",
    "    soup = BeautifulSoup(markup=response.content, features='html.parser')\n",
    "    category = [e.get_text() for e in soup.select('.subtext > a')][:-1]\n",
    "    \n",
    "    # Append the binarized data to the dataframe\n",
    "    \n",
    "    row = [any([True if cg == col else False for cg in category]) for col in cols]\n",
    "    df_category = df_category.append(pd.Series(data=row, index=cols, name=movie_name))"
   ]
  },
  {
   "cell_type": "markdown",
   "metadata": {},
   "source": [
    "### Convert dataframe data to numeric values and save them to disk"
   ]
  },
  {
   "cell_type": "code",
   "execution_count": 4,
   "metadata": {},
   "outputs": [],
   "source": [
    "df_category = df_category.astype('bool')\n",
    "df_category = df_category.rename_axis('Movie')\n",
    "df_category.to_csv('dataset/category.csv')"
   ]
  },
  {
   "cell_type": "code",
   "execution_count": null,
   "metadata": {},
   "outputs": [],
   "source": []
  }
 ],
 "metadata": {
  "kernelspec": {
   "display_name": "Python 3",
   "language": "python",
   "name": "python3"
  },
  "language_info": {
   "codemirror_mode": {
    "name": "ipython",
    "version": 3
   },
   "file_extension": ".py",
   "mimetype": "text/x-python",
   "name": "python",
   "nbconvert_exporter": "python",
   "pygments_lexer": "ipython3",
   "version": "3.6.12"
  }
 },
 "nbformat": 4,
 "nbformat_minor": 4
}
