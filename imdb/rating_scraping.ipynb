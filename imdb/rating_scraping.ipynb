{
 "cells": [
  {
   "cell_type": "markdown",
   "metadata": {},
   "source": [
    "### Import the necessary modules for web scraping"
   ]
  },
  {
   "cell_type": "code",
   "execution_count": 1,
   "metadata": {},
   "outputs": [],
   "source": [
    "from bs4 import BeautifulSoup\n",
    "import pandas as pd\n",
    "import requests"
   ]
  },
  {
   "cell_type": "markdown",
   "metadata": {},
   "source": [
    "### Get the movie paths from 'the top 250 movie' page"
   ]
  },
  {
   "cell_type": "code",
   "execution_count": 2,
   "metadata": {},
   "outputs": [],
   "source": [
    "base_url = 'https://www.imdb.com/'\n",
    "top_250_url = 'https://www.imdb.com/chart/top'\n",
    "rating_path = 'ratings?ref_=tt_ov_rt'\n",
    "\n",
    "response = requests.get(top_250_url)\n",
    "soup = BeautifulSoup(markup=response.content, features='html.parser')\n",
    "movies = [(e.get_text(), e.get('href')) for e in soup.select('.titleColumn > a')]"
   ]
  },
  {
   "cell_type": "markdown",
   "metadata": {},
   "source": [
    "### Construct two dataframes that holds the rating means and rating counts"
   ]
  },
  {
   "cell_type": "code",
   "execution_count": 3,
   "metadata": {},
   "outputs": [],
   "source": [
    "cols = [\n",
    "    'All', 'All(<18)', 'All(18-29)', 'All(30-44)', 'All(45+)',\n",
    "    'Male', 'Male(<18)', 'Male(18-29)', 'Male(30-44)', 'Male(45+)', \n",
    "    'Female', 'Female(<18)', 'Female(18-29)', 'Female(30-44)', 'Female(45+)'\n",
    "]\n",
    "\n",
    "df_rating = pd.DataFrame(columns=cols)\n",
    "df_dist = pd.DataFrame(columns=cols)\n",
    "\n",
    "for movie_name, movie_path in movies:\n",
    "    \n",
    "    # Get the rating table in the page\n",
    "    \n",
    "    response = requests.get(base_url + movie_path + rating_path)\n",
    "    soup = BeautifulSoup(markup=response.content, features='html.parser')\n",
    "    rating_table = soup.find_all('table')[1]\n",
    "    \n",
    "    # Add rating means to rating dataframe\n",
    "    \n",
    "    row = [e.get_text().strip() for e in rating_table.select('.bigcell')]\n",
    "    df_rating = df_rating.append(pd.Series(data=row, index=cols, name=movie_name))\n",
    "    \n",
    "    # Add rating counts to distrubtion dataframe\n",
    "    \n",
    "    row = [e.get_text().strip() for e in rating_table.select('.smallcell > a')]\n",
    "    df_dist = df_dist.append(pd.Series(data=row, index=cols, name=movie_name))"
   ]
  },
  {
   "cell_type": "markdown",
   "metadata": {},
   "source": [
    "### Convert dataframe data to numeric values and save them to disk"
   ]
  },
  {
   "cell_type": "code",
   "execution_count": 4,
   "metadata": {},
   "outputs": [],
   "source": [
    "df_rating = df_rating.astype('float32')\n",
    "df_dist = df_dist.replace(regex={',': ''}).astype('int32')\n",
    "\n",
    "df_rating = df_rating.rename_axis('Movie')\n",
    "df_dist = df_dist.rename_axis('Movie')\n",
    "\n",
    "df_rating.to_csv('dataset/rating.csv')\n",
    "df_dist.to_csv('dataset/distribution.csv')"
   ]
  },
  {
   "cell_type": "code",
   "execution_count": null,
   "metadata": {},
   "outputs": [],
   "source": []
  }
 ],
 "metadata": {
  "kernelspec": {
   "display_name": "Python 3",
   "language": "python",
   "name": "python3"
  },
  "language_info": {
   "codemirror_mode": {
    "name": "ipython",
    "version": 3
   },
   "file_extension": ".py",
   "mimetype": "text/x-python",
   "name": "python",
   "nbconvert_exporter": "python",
   "pygments_lexer": "ipython3",
   "version": "3.6.12"
  }
 },
 "nbformat": 4,
 "nbformat_minor": 4
}
